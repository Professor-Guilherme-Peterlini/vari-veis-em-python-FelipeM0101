{
  "nbformat": 4,
  "nbformat_minor": 0,
  "metadata": {
    "colab": {
      "provenance": [],
      "authorship_tag": "ABX9TyMWptNtoekf733H+NkYC8an",
      "include_colab_link": true
    },
    "kernelspec": {
      "name": "python3",
      "display_name": "Python 3"
    },
    "language_info": {
      "name": "python"
    }
  },
  "cells": [
    {
      "cell_type": "markdown",
      "metadata": {
        "id": "view-in-github",
        "colab_type": "text"
      },
      "source": [
        "<a href=\"https://colab.research.google.com/github/Professor-Guilherme-Peterlini/vari-veis-em-python-FelipeM0101/blob/main/Untitled0.ipynb\" target=\"_parent\"><img src=\"https://colab.research.google.com/assets/colab-badge.svg\" alt=\"Open In Colab\"/></a>"
      ]
    },
    {
      "cell_type": "code",
      "execution_count": null,
      "metadata": {
        "id": "zQ06PxKvkch6"
      },
      "outputs": [],
      "source": [
        "# multavel quando a variavel pode ser alterada durante a execulcao\n",
        "\n",
        "\n",
        "   #- Exemplos: listas (mutáveis) vs. tuplas (imutáveis)\n",
        "\n",
        "tuplas lista_referenciada[2][0] = 99\n",
        "print(\"Lista original após modificação:\", lista_original)\n",
        "print(\"Lista referenciada após modificação:\", lista_referenciada)\n",
        "\n",
        "#multaveis\n",
        "\n",
        "def Funcao_tente_modificar():\n",
        "    variavel_se_forcapaz = 20\n",
        "    print('tente dentro dentro da funcao(modifica corretamente)' variavel_se_forcapaz)\n",
        "\n",
        "\n",
        "   #- Explicação de como a mutabilidade afeta operações e atribuições\n",
        "\n",
        "   #  Essa característica afeta quando as operações e atribuições são realizadas\n",
        "\n",
        "   # e faz alteraçoes que pode prejudicar fatalmente o programa.\n",
        "\n",
        "   #- Discussão sobre como isso se relaciona com o conceito de identidade de objetos (função `id()`)\n",
        "   # a funçao id(): e para criar uma variavel imultavel com sua propria caracteristica com uma funçao id():.f\n",
        "\n",
        "# atividade 3\n",
        "\n",
        "   # - Definição de escopo local e global\n",
        "    variavel_global = 20\n",
        "\n",
        "   #- Explicação da palavra-chave `global`\n",
        "  # variavel global e chave pois definimos como objeto designado numa funcao\n",
        "\n",
        "   #- Descrição da regra LEGB (Local, Enclosing, Global, Built-in)\n",
        "#primeiro a variavel e verificado se e valida.\n",
        "#Se a variável nao for encontrada ao verificar sera definido no escopo enclosing.\n",
        "#Se a variável nao foi definida no escopo enclosing, verifica se foi definida no escopo global.\n",
        "#Se a variável não foi definida no escopo global,verifica se foi definida no escopo built-in.\n",
        "#Se caso nao for encontrado sera gera um erro.\n",
        "\n",
        "\n",
        "   #- Exemplos de como Python resolve nomes de variáveis em diferentes contextos\n",
        "# exemplos\n",
        "\n",
        "a= str(9); b=str(3)"
      ]
    }
  ]
}